{
 "cells": [
  {
   "cell_type": "code",
   "execution_count": 140,
   "metadata": {},
   "outputs": [],
   "source": [
    "import pandas as pd\n",
    "import numpy as np"
   ]
  },
  {
   "cell_type": "code",
   "execution_count": 141,
   "metadata": {},
   "outputs": [
    {
     "data": {
      "text/html": [
       "<div>\n",
       "<style scoped>\n",
       "    .dataframe tbody tr th:only-of-type {\n",
       "        vertical-align: middle;\n",
       "    }\n",
       "\n",
       "    .dataframe tbody tr th {\n",
       "        vertical-align: top;\n",
       "    }\n",
       "\n",
       "    .dataframe thead th {\n",
       "        text-align: right;\n",
       "    }\n",
       "</style>\n",
       "<table border=\"1\" class=\"dataframe\">\n",
       "  <thead>\n",
       "    <tr style=\"text-align: right;\">\n",
       "      <th></th>\n",
       "      <th>User_ID</th>\n",
       "      <th>Description</th>\n",
       "      <th>Browser_Used</th>\n",
       "      <th>Device_Used</th>\n",
       "      <th>Is_Response</th>\n",
       "    </tr>\n",
       "  </thead>\n",
       "  <tbody>\n",
       "    <tr>\n",
       "      <th>0</th>\n",
       "      <td>id10326</td>\n",
       "      <td>The room was kind of clean but had a VERY stro...</td>\n",
       "      <td>Edge</td>\n",
       "      <td>Mobile</td>\n",
       "      <td>not happy</td>\n",
       "    </tr>\n",
       "    <tr>\n",
       "      <th>1</th>\n",
       "      <td>id10327</td>\n",
       "      <td>I stayed at the Crown Plaza April -- - April -...</td>\n",
       "      <td>Internet Explorer</td>\n",
       "      <td>Mobile</td>\n",
       "      <td>not happy</td>\n",
       "    </tr>\n",
       "    <tr>\n",
       "      <th>2</th>\n",
       "      <td>id10328</td>\n",
       "      <td>I booked this hotel through Hotwire at the low...</td>\n",
       "      <td>Mozilla</td>\n",
       "      <td>Tablet</td>\n",
       "      <td>not happy</td>\n",
       "    </tr>\n",
       "    <tr>\n",
       "      <th>3</th>\n",
       "      <td>id10329</td>\n",
       "      <td>Stayed here with husband and sons on the way t...</td>\n",
       "      <td>InternetExplorer</td>\n",
       "      <td>Desktop</td>\n",
       "      <td>happy</td>\n",
       "    </tr>\n",
       "    <tr>\n",
       "      <th>4</th>\n",
       "      <td>id10330</td>\n",
       "      <td>My girlfriends and I stayed here to celebrate ...</td>\n",
       "      <td>Edge</td>\n",
       "      <td>Tablet</td>\n",
       "      <td>not happy</td>\n",
       "    </tr>\n",
       "  </tbody>\n",
       "</table>\n",
       "</div>"
      ],
      "text/plain": [
       "   User_ID                                        Description  \\\n",
       "0  id10326  The room was kind of clean but had a VERY stro...   \n",
       "1  id10327  I stayed at the Crown Plaza April -- - April -...   \n",
       "2  id10328  I booked this hotel through Hotwire at the low...   \n",
       "3  id10329  Stayed here with husband and sons on the way t...   \n",
       "4  id10330  My girlfriends and I stayed here to celebrate ...   \n",
       "\n",
       "        Browser_Used Device_Used Is_Response  \n",
       "0               Edge      Mobile   not happy  \n",
       "1  Internet Explorer      Mobile   not happy  \n",
       "2            Mozilla      Tablet   not happy  \n",
       "3   InternetExplorer     Desktop       happy  \n",
       "4               Edge      Tablet   not happy  "
      ]
     },
     "execution_count": 141,
     "metadata": {},
     "output_type": "execute_result"
    }
   ],
   "source": [
    "df=pd.read_csv(r\"C:\\Users\\HP\\Desktop\\PYTHON\\NLP\\ZIP NLP\\projects\\train.csv\")\n",
    "df=pd.DataFrame(data=df)\n",
    "df.head()"
   ]
  },
  {
   "cell_type": "code",
   "execution_count": 142,
   "metadata": {},
   "outputs": [
    {
     "data": {
      "text/plain": [
       "(38932, 5)"
      ]
     },
     "execution_count": 142,
     "metadata": {},
     "output_type": "execute_result"
    }
   ],
   "source": [
    "df.shape"
   ]
  },
  {
   "cell_type": "code",
   "execution_count": 143,
   "metadata": {},
   "outputs": [
    {
     "data": {
      "text/plain": [
       "User_ID         0\n",
       "Description     0\n",
       "Browser_Used    0\n",
       "Device_Used     0\n",
       "Is_Response     0\n",
       "dtype: int64"
      ]
     },
     "execution_count": 143,
     "metadata": {},
     "output_type": "execute_result"
    }
   ],
   "source": [
    "df.isnull().sum()"
   ]
  },
  {
   "cell_type": "code",
   "execution_count": 144,
   "metadata": {},
   "outputs": [
    {
     "name": "stdout",
     "output_type": "stream",
     "text": [
      "<class 'pandas.core.frame.DataFrame'>\n",
      "RangeIndex: 38932 entries, 0 to 38931\n",
      "Data columns (total 5 columns):\n",
      "User_ID         38932 non-null object\n",
      "Description     38932 non-null object\n",
      "Browser_Used    38932 non-null object\n",
      "Device_Used     38932 non-null object\n",
      "Is_Response     38932 non-null object\n",
      "dtypes: object(5)\n",
      "memory usage: 1.5+ MB\n"
     ]
    }
   ],
   "source": [
    "df.info()"
   ]
  },
  {
   "cell_type": "code",
   "execution_count": 145,
   "metadata": {},
   "outputs": [
    {
     "data": {
      "text/plain": [
       "Firefox              7367\n",
       "Edge                 7134\n",
       "Google Chrome        4659\n",
       "InternetExplorer     4588\n",
       "Mozilla Firefox      4328\n",
       "Mozilla              3092\n",
       "Chrome               2470\n",
       "IE                   2439\n",
       "Internet Explorer    2103\n",
       "Safari                390\n",
       "Opera                 362\n",
       "Name: Browser_Used, dtype: int64"
      ]
     },
     "execution_count": 145,
     "metadata": {},
     "output_type": "execute_result"
    }
   ],
   "source": [
    "df[\"Browser_Used\"].value_counts()"
   ]
  },
  {
   "cell_type": "code",
   "execution_count": 146,
   "metadata": {},
   "outputs": [
    {
     "data": {
      "text/plain": [
       "Desktop    15026\n",
       "Mobile     14976\n",
       "Tablet      8930\n",
       "Name: Device_Used, dtype: int64"
      ]
     },
     "execution_count": 146,
     "metadata": {},
     "output_type": "execute_result"
    }
   ],
   "source": [
    "df[\"Device_Used\"].value_counts()"
   ]
  },
  {
   "cell_type": "code",
   "execution_count": 147,
   "metadata": {},
   "outputs": [
    {
     "data": {
      "text/plain": [
       "happy        26521\n",
       "not happy    12411\n",
       "Name: Is_Response, dtype: int64"
      ]
     },
     "execution_count": 147,
     "metadata": {},
     "output_type": "execute_result"
    }
   ],
   "source": [
    "df[\"Is_Response\"].value_counts()"
   ]
  },
  {
   "cell_type": "markdown",
   "metadata": {},
   "source": [
    "### removing punctuations"
   ]
  },
  {
   "cell_type": "code",
   "execution_count": 148,
   "metadata": {},
   "outputs": [
    {
     "data": {
      "text/plain": [
       "'!\"#$%&\\'()*+,-./:;<=>?@[\\\\]^_`{|}~'"
      ]
     },
     "execution_count": 148,
     "metadata": {},
     "output_type": "execute_result"
    }
   ],
   "source": [
    "import string\n",
    "string.punctuation"
   ]
  },
  {
   "cell_type": "code",
   "execution_count": 149,
   "metadata": {},
   "outputs": [
    {
     "data": {
      "text/html": [
       "<div>\n",
       "<style scoped>\n",
       "    .dataframe tbody tr th:only-of-type {\n",
       "        vertical-align: middle;\n",
       "    }\n",
       "\n",
       "    .dataframe tbody tr th {\n",
       "        vertical-align: top;\n",
       "    }\n",
       "\n",
       "    .dataframe thead th {\n",
       "        text-align: right;\n",
       "    }\n",
       "</style>\n",
       "<table border=\"1\" class=\"dataframe\">\n",
       "  <thead>\n",
       "    <tr style=\"text-align: right;\">\n",
       "      <th></th>\n",
       "      <th>User_ID</th>\n",
       "      <th>Description</th>\n",
       "      <th>Browser_Used</th>\n",
       "      <th>Device_Used</th>\n",
       "      <th>Is_Response</th>\n",
       "      <th>new_description</th>\n",
       "    </tr>\n",
       "  </thead>\n",
       "  <tbody>\n",
       "    <tr>\n",
       "      <th>0</th>\n",
       "      <td>id10326</td>\n",
       "      <td>The room was kind of clean but had a VERY stro...</td>\n",
       "      <td>Edge</td>\n",
       "      <td>Mobile</td>\n",
       "      <td>not happy</td>\n",
       "      <td>the room was kind of clean but had a very stro...</td>\n",
       "    </tr>\n",
       "    <tr>\n",
       "      <th>1</th>\n",
       "      <td>id10327</td>\n",
       "      <td>I stayed at the Crown Plaza April -- - April -...</td>\n",
       "      <td>Internet Explorer</td>\n",
       "      <td>Mobile</td>\n",
       "      <td>not happy</td>\n",
       "      <td>i stayed at the crown plaza april   april   th...</td>\n",
       "    </tr>\n",
       "    <tr>\n",
       "      <th>2</th>\n",
       "      <td>id10328</td>\n",
       "      <td>I booked this hotel through Hotwire at the low...</td>\n",
       "      <td>Mozilla</td>\n",
       "      <td>Tablet</td>\n",
       "      <td>not happy</td>\n",
       "      <td>i booked this hotel through hotwire at the low...</td>\n",
       "    </tr>\n",
       "    <tr>\n",
       "      <th>3</th>\n",
       "      <td>id10329</td>\n",
       "      <td>Stayed here with husband and sons on the way t...</td>\n",
       "      <td>InternetExplorer</td>\n",
       "      <td>Desktop</td>\n",
       "      <td>happy</td>\n",
       "      <td>stayed here with husband and sons on the way t...</td>\n",
       "    </tr>\n",
       "    <tr>\n",
       "      <th>4</th>\n",
       "      <td>id10330</td>\n",
       "      <td>My girlfriends and I stayed here to celebrate ...</td>\n",
       "      <td>Edge</td>\n",
       "      <td>Tablet</td>\n",
       "      <td>not happy</td>\n",
       "      <td>my girlfriends and i stayed here to celebrate ...</td>\n",
       "    </tr>\n",
       "  </tbody>\n",
       "</table>\n",
       "</div>"
      ],
      "text/plain": [
       "   User_ID                                        Description  \\\n",
       "0  id10326  The room was kind of clean but had a VERY stro...   \n",
       "1  id10327  I stayed at the Crown Plaza April -- - April -...   \n",
       "2  id10328  I booked this hotel through Hotwire at the low...   \n",
       "3  id10329  Stayed here with husband and sons on the way t...   \n",
       "4  id10330  My girlfriends and I stayed here to celebrate ...   \n",
       "\n",
       "        Browser_Used Device_Used Is_Response  \\\n",
       "0               Edge      Mobile   not happy   \n",
       "1  Internet Explorer      Mobile   not happy   \n",
       "2            Mozilla      Tablet   not happy   \n",
       "3   InternetExplorer     Desktop       happy   \n",
       "4               Edge      Tablet   not happy   \n",
       "\n",
       "                                     new_description  \n",
       "0  the room was kind of clean but had a very stro...  \n",
       "1  i stayed at the crown plaza april   april   th...  \n",
       "2  i booked this hotel through hotwire at the low...  \n",
       "3  stayed here with husband and sons on the way t...  \n",
       "4  my girlfriends and i stayed here to celebrate ...  "
      ]
     },
     "execution_count": 149,
     "metadata": {},
     "output_type": "execute_result"
    }
   ],
   "source": [
    "def rmv_punct(text):\n",
    "    no_punct=[words for words in text if words not in string.punctuation]\n",
    "    words_wo_punct=\"\".join(no_punct)\n",
    "    return words_wo_punct\n",
    "\n",
    "df[\"new_description\"]=df[\"Description\"].apply(lambda x: rmv_punct(x.lower())) #used the lower function also, because we would be doing it later so to reduce lines i have written it here\n",
    "df.head()"
   ]
  },
  {
   "cell_type": "markdown",
   "metadata": {},
   "source": [
    "### word tokenizing\n",
    "#in the block of code below, \"\\W+\" splits all the non words characaters"
   ]
  },
  {
   "cell_type": "code",
   "execution_count": 150,
   "metadata": {},
   "outputs": [
    {
     "data": {
      "text/html": [
       "<div>\n",
       "<style scoped>\n",
       "    .dataframe tbody tr th:only-of-type {\n",
       "        vertical-align: middle;\n",
       "    }\n",
       "\n",
       "    .dataframe tbody tr th {\n",
       "        vertical-align: top;\n",
       "    }\n",
       "\n",
       "    .dataframe thead th {\n",
       "        text-align: right;\n",
       "    }\n",
       "</style>\n",
       "<table border=\"1\" class=\"dataframe\">\n",
       "  <thead>\n",
       "    <tr style=\"text-align: right;\">\n",
       "      <th></th>\n",
       "      <th>User_ID</th>\n",
       "      <th>Description</th>\n",
       "      <th>Browser_Used</th>\n",
       "      <th>Device_Used</th>\n",
       "      <th>Is_Response</th>\n",
       "      <th>new_description</th>\n",
       "      <th>new_description_with_split</th>\n",
       "    </tr>\n",
       "  </thead>\n",
       "  <tbody>\n",
       "    <tr>\n",
       "      <th>0</th>\n",
       "      <td>id10326</td>\n",
       "      <td>The room was kind of clean but had a VERY stro...</td>\n",
       "      <td>Edge</td>\n",
       "      <td>Mobile</td>\n",
       "      <td>not happy</td>\n",
       "      <td>the room was kind of clean but had a very stro...</td>\n",
       "      <td>[the, room, was, kind, of, clean, but, had, a,...</td>\n",
       "    </tr>\n",
       "    <tr>\n",
       "      <th>1</th>\n",
       "      <td>id10327</td>\n",
       "      <td>I stayed at the Crown Plaza April -- - April -...</td>\n",
       "      <td>Internet Explorer</td>\n",
       "      <td>Mobile</td>\n",
       "      <td>not happy</td>\n",
       "      <td>i stayed at the crown plaza april   april   th...</td>\n",
       "      <td>[i, stayed, at, the, crown, plaza, april, apri...</td>\n",
       "    </tr>\n",
       "    <tr>\n",
       "      <th>2</th>\n",
       "      <td>id10328</td>\n",
       "      <td>I booked this hotel through Hotwire at the low...</td>\n",
       "      <td>Mozilla</td>\n",
       "      <td>Tablet</td>\n",
       "      <td>not happy</td>\n",
       "      <td>i booked this hotel through hotwire at the low...</td>\n",
       "      <td>[i, booked, this, hotel, through, hotwire, at,...</td>\n",
       "    </tr>\n",
       "    <tr>\n",
       "      <th>3</th>\n",
       "      <td>id10329</td>\n",
       "      <td>Stayed here with husband and sons on the way t...</td>\n",
       "      <td>InternetExplorer</td>\n",
       "      <td>Desktop</td>\n",
       "      <td>happy</td>\n",
       "      <td>stayed here with husband and sons on the way t...</td>\n",
       "      <td>[stayed, here, with, husband, and, sons, on, t...</td>\n",
       "    </tr>\n",
       "    <tr>\n",
       "      <th>4</th>\n",
       "      <td>id10330</td>\n",
       "      <td>My girlfriends and I stayed here to celebrate ...</td>\n",
       "      <td>Edge</td>\n",
       "      <td>Tablet</td>\n",
       "      <td>not happy</td>\n",
       "      <td>my girlfriends and i stayed here to celebrate ...</td>\n",
       "      <td>[my, girlfriends, and, i, stayed, here, to, ce...</td>\n",
       "    </tr>\n",
       "  </tbody>\n",
       "</table>\n",
       "</div>"
      ],
      "text/plain": [
       "   User_ID                                        Description  \\\n",
       "0  id10326  The room was kind of clean but had a VERY stro...   \n",
       "1  id10327  I stayed at the Crown Plaza April -- - April -...   \n",
       "2  id10328  I booked this hotel through Hotwire at the low...   \n",
       "3  id10329  Stayed here with husband and sons on the way t...   \n",
       "4  id10330  My girlfriends and I stayed here to celebrate ...   \n",
       "\n",
       "        Browser_Used Device_Used Is_Response  \\\n",
       "0               Edge      Mobile   not happy   \n",
       "1  Internet Explorer      Mobile   not happy   \n",
       "2            Mozilla      Tablet   not happy   \n",
       "3   InternetExplorer     Desktop       happy   \n",
       "4               Edge      Tablet   not happy   \n",
       "\n",
       "                                     new_description  \\\n",
       "0  the room was kind of clean but had a very stro...   \n",
       "1  i stayed at the crown plaza april   april   th...   \n",
       "2  i booked this hotel through hotwire at the low...   \n",
       "3  stayed here with husband and sons on the way t...   \n",
       "4  my girlfriends and i stayed here to celebrate ...   \n",
       "\n",
       "                          new_description_with_split  \n",
       "0  [the, room, was, kind, of, clean, but, had, a,...  \n",
       "1  [i, stayed, at, the, crown, plaza, april, apri...  \n",
       "2  [i, booked, this, hotel, through, hotwire, at,...  \n",
       "3  [stayed, here, with, husband, and, sons, on, t...  \n",
       "4  [my, girlfriends, and, i, stayed, here, to, ce...  "
      ]
     },
     "execution_count": 150,
     "metadata": {},
     "output_type": "execute_result"
    }
   ],
   "source": [
    "import re\n",
    "\n",
    "def tokenize(text):\n",
    "    split=re.split(\"\\W+\", text)\n",
    "    return split\n",
    "df[\"new_description_with_split\"]=df[\"new_description\"].apply(lambda x: tokenize(x))\n",
    "df.head()"
   ]
  },
  {
   "cell_type": "markdown",
   "metadata": {},
   "source": [
    "### STOP_WORDS\n",
    "\n",
    " Now, we have a list of words without any punctuation.\n",
    "#Let’s go ahead and remove the stop words. \n",
    "#Stop words are irrelevant words that won’t help in identifying a text as real or fake. \n",
    "#We will use “nltk” library for stop-words"
   ]
  },
  {
   "cell_type": "code",
   "execution_count": 151,
   "metadata": {},
   "outputs": [
    {
     "name": "stderr",
     "output_type": "stream",
     "text": [
      "[nltk_data] Downloading package stopwords to\n",
      "[nltk_data]     C:\\Users\\HP\\AppData\\Roaming\\nltk_data...\n",
      "[nltk_data]   Package stopwords is already up-to-date!\n"
     ]
    },
    {
     "data": {
      "text/plain": [
       "True"
      ]
     },
     "execution_count": 151,
     "metadata": {},
     "output_type": "execute_result"
    }
   ],
   "source": [
    "import nltk\n",
    "nltk.download(\"stopwords\")"
   ]
  },
  {
   "cell_type": "code",
   "execution_count": 152,
   "metadata": {},
   "outputs": [],
   "source": [
    "# stopword=set(nltk.corpus.stopwords.words(\"english\"))\n",
    "# print(stopword)"
   ]
  },
  {
   "cell_type": "code",
   "execution_count": 153,
   "metadata": {
    "scrolled": true
   },
   "outputs": [],
   "source": [
    "#now lets create a function which will remove the stopwords \n",
    "\n",
    "# def rmv_stopwords(text):\n",
    "#     text=[words for words in text if words not in stopword]\n",
    "#     return text\n",
    "\n",
    "# df[\"new_description_with_split_stopwords\"]=df[\"new_description_with_split\"].apply(lambda x: rmv_stopwords(x))\n",
    "# df.head()"
   ]
  },
  {
   "cell_type": "markdown",
   "metadata": {},
   "source": [
    "### STEMMING AND LEMMATIZING"
   ]
  },
  {
   "cell_type": "code",
   "execution_count": 154,
   "metadata": {},
   "outputs": [
    {
     "name": "stderr",
     "output_type": "stream",
     "text": [
      "[nltk_data] Downloading package wordnet to\n",
      "[nltk_data]     C:\\Users\\HP\\AppData\\Roaming\\nltk_data...\n",
      "[nltk_data]   Package wordnet is already up-to-date!\n"
     ]
    },
    {
     "data": {
      "text/plain": [
       "True"
      ]
     },
     "execution_count": 154,
     "metadata": {},
     "output_type": "execute_result"
    }
   ],
   "source": [
    "from nltk.stem import WordNetLemmatizer\n",
    "nltk.download(\"wordnet\")"
   ]
  },
  {
   "cell_type": "code",
   "execution_count": 155,
   "metadata": {},
   "outputs": [],
   "source": [
    "wnl=WordNetLemmatizer()"
   ]
  },
  {
   "cell_type": "code",
   "execution_count": 157,
   "metadata": {
    "scrolled": true
   },
   "outputs": [
    {
     "data": {
      "text/html": [
       "<div>\n",
       "<style scoped>\n",
       "    .dataframe tbody tr th:only-of-type {\n",
       "        vertical-align: middle;\n",
       "    }\n",
       "\n",
       "    .dataframe tbody tr th {\n",
       "        vertical-align: top;\n",
       "    }\n",
       "\n",
       "    .dataframe thead th {\n",
       "        text-align: right;\n",
       "    }\n",
       "</style>\n",
       "<table border=\"1\" class=\"dataframe\">\n",
       "  <thead>\n",
       "    <tr style=\"text-align: right;\">\n",
       "      <th></th>\n",
       "      <th>User_ID</th>\n",
       "      <th>Description</th>\n",
       "      <th>Browser_Used</th>\n",
       "      <th>Device_Used</th>\n",
       "      <th>Is_Response</th>\n",
       "      <th>new_description</th>\n",
       "      <th>new_description_with_split</th>\n",
       "      <th>new_description_with_split_stopwords_lemma</th>\n",
       "    </tr>\n",
       "  </thead>\n",
       "  <tbody>\n",
       "    <tr>\n",
       "      <th>0</th>\n",
       "      <td>id10326</td>\n",
       "      <td>The room was kind of clean but had a VERY stro...</td>\n",
       "      <td>Edge</td>\n",
       "      <td>Mobile</td>\n",
       "      <td>not happy</td>\n",
       "      <td>the room was kind of clean but had a very stro...</td>\n",
       "      <td>[the, room, was, kind, of, clean, but, had, a,...</td>\n",
       "      <td>[the, room, wa, kind, of, clean, but, had, a, ...</td>\n",
       "    </tr>\n",
       "    <tr>\n",
       "      <th>1</th>\n",
       "      <td>id10327</td>\n",
       "      <td>I stayed at the Crown Plaza April -- - April -...</td>\n",
       "      <td>Internet Explorer</td>\n",
       "      <td>Mobile</td>\n",
       "      <td>not happy</td>\n",
       "      <td>i stayed at the crown plaza april   april   th...</td>\n",
       "      <td>[i, stayed, at, the, crown, plaza, april, apri...</td>\n",
       "      <td>[i, stayed, at, the, crown, plaza, april, apri...</td>\n",
       "    </tr>\n",
       "    <tr>\n",
       "      <th>2</th>\n",
       "      <td>id10328</td>\n",
       "      <td>I booked this hotel through Hotwire at the low...</td>\n",
       "      <td>Mozilla</td>\n",
       "      <td>Tablet</td>\n",
       "      <td>not happy</td>\n",
       "      <td>i booked this hotel through hotwire at the low...</td>\n",
       "      <td>[i, booked, this, hotel, through, hotwire, at,...</td>\n",
       "      <td>[i, booked, this, hotel, through, hotwire, at,...</td>\n",
       "    </tr>\n",
       "    <tr>\n",
       "      <th>3</th>\n",
       "      <td>id10329</td>\n",
       "      <td>Stayed here with husband and sons on the way t...</td>\n",
       "      <td>InternetExplorer</td>\n",
       "      <td>Desktop</td>\n",
       "      <td>happy</td>\n",
       "      <td>stayed here with husband and sons on the way t...</td>\n",
       "      <td>[stayed, here, with, husband, and, sons, on, t...</td>\n",
       "      <td>[stayed, here, with, husband, and, son, on, th...</td>\n",
       "    </tr>\n",
       "    <tr>\n",
       "      <th>4</th>\n",
       "      <td>id10330</td>\n",
       "      <td>My girlfriends and I stayed here to celebrate ...</td>\n",
       "      <td>Edge</td>\n",
       "      <td>Tablet</td>\n",
       "      <td>not happy</td>\n",
       "      <td>my girlfriends and i stayed here to celebrate ...</td>\n",
       "      <td>[my, girlfriends, and, i, stayed, here, to, ce...</td>\n",
       "      <td>[my, girlfriend, and, i, stayed, here, to, cel...</td>\n",
       "    </tr>\n",
       "  </tbody>\n",
       "</table>\n",
       "</div>"
      ],
      "text/plain": [
       "   User_ID                                        Description  \\\n",
       "0  id10326  The room was kind of clean but had a VERY stro...   \n",
       "1  id10327  I stayed at the Crown Plaza April -- - April -...   \n",
       "2  id10328  I booked this hotel through Hotwire at the low...   \n",
       "3  id10329  Stayed here with husband and sons on the way t...   \n",
       "4  id10330  My girlfriends and I stayed here to celebrate ...   \n",
       "\n",
       "        Browser_Used Device_Used Is_Response  \\\n",
       "0               Edge      Mobile   not happy   \n",
       "1  Internet Explorer      Mobile   not happy   \n",
       "2            Mozilla      Tablet   not happy   \n",
       "3   InternetExplorer     Desktop       happy   \n",
       "4               Edge      Tablet   not happy   \n",
       "\n",
       "                                     new_description  \\\n",
       "0  the room was kind of clean but had a very stro...   \n",
       "1  i stayed at the crown plaza april   april   th...   \n",
       "2  i booked this hotel through hotwire at the low...   \n",
       "3  stayed here with husband and sons on the way t...   \n",
       "4  my girlfriends and i stayed here to celebrate ...   \n",
       "\n",
       "                          new_description_with_split  \\\n",
       "0  [the, room, was, kind, of, clean, but, had, a,...   \n",
       "1  [i, stayed, at, the, crown, plaza, april, apri...   \n",
       "2  [i, booked, this, hotel, through, hotwire, at,...   \n",
       "3  [stayed, here, with, husband, and, sons, on, t...   \n",
       "4  [my, girlfriends, and, i, stayed, here, to, ce...   \n",
       "\n",
       "          new_description_with_split_stopwords_lemma  \n",
       "0  [the, room, wa, kind, of, clean, but, had, a, ...  \n",
       "1  [i, stayed, at, the, crown, plaza, april, apri...  \n",
       "2  [i, booked, this, hotel, through, hotwire, at,...  \n",
       "3  [stayed, here, with, husband, and, son, on, th...  \n",
       "4  [my, girlfriend, and, i, stayed, here, to, cel...  "
      ]
     },
     "execution_count": 157,
     "metadata": {},
     "output_type": "execute_result"
    }
   ],
   "source": [
    "def lemmatization(text):\n",
    "    lem_text=[wnl.lemmatize(word) for word in text]\n",
    "    return lem_text\n",
    "\n",
    "df[\"new_description_with_split_stopwords_lemma\"]=df[\"new_description_with_split\"].apply(lambda x: lemmatization(x))\n",
    "df.head()"
   ]
  },
  {
   "cell_type": "code",
   "execution_count": 158,
   "metadata": {},
   "outputs": [
    {
     "data": {
      "text/plain": [
       "0        [the, room, wa, kind, of, clean, but, had, a, ...\n",
       "1        [i, stayed, at, the, crown, plaza, april, apri...\n",
       "2        [i, booked, this, hotel, through, hotwire, at,...\n",
       "3        [stayed, here, with, husband, and, son, on, th...\n",
       "4        [my, girlfriend, and, i, stayed, here, to, cel...\n",
       "5        [we, had, room, one, wa, very, nice, and, clea...\n",
       "6        [my, husband, and, i, have, stayed, in, this, ...\n",
       "7        [my, wife, i, stayed, in, this, glorious, city...\n",
       "8        [my, boyfriend, and, i, stayed, at, the, fairm...\n",
       "9        [wonderful, staff, great, location, but, it, w...\n",
       "10       [step, off, time, square, nice, room, stayed, ...\n",
       "11       [me, the, wife, and, kid, stayed, here, on, va...\n",
       "12       [we, stay, at, the, jolly, madison, over, the,...\n",
       "13       [i, highly, recommend, the, hawthorne, terrace...\n",
       "14       [i, found, the, hotel, clean, and, nicely, loc...\n",
       "15       [stayed, at, the, elan, from, th, to, th, octo...\n",
       "16       [priceline, sent, u, to, this, hotel, after, a...\n",
       "17       [old, and, cheap, furnituresour, chair, wa, si...\n",
       "18       [we, stayed, here, for, night, and, were, real...\n",
       "19       [the, service, wa, fine, but, the, hotel, itse...\n",
       "20       [having, stayed, at, many, hilton, property, i...\n",
       "21       [this, is, everything, you, could, want, from,...\n",
       "22       [i, very, much, wanted, to, stay, at, a, bouti...\n",
       "23       [i, really, liked, this, hotel, the, staff, we...\n",
       "24       [my, wife, and, spent, day, there, this, month...\n",
       "25       [we, stayed, at, this, hotel, for, two, night,...\n",
       "26       [took, a, girl, trip, to, la, and, had, no, id...\n",
       "27       [stayed, with, my, girlfriend, for, a, long, w...\n",
       "28       [i, have, stayed, here, numerous, time, and, n...\n",
       "29       [the, public, area, are, nice, to, look, at, t...\n",
       "                               ...                        \n",
       "38902    [after, having, stayed, at, the, waldorf, many...\n",
       "38903    [this, hotel, is, a, great, choice, for, those...\n",
       "38904    [although, new, york, is, a, large, city, when...\n",
       "38905    [i, used, to, live, in, austin, so, when, i, m...\n",
       "38906    [ive, stayed, at, the, hilton, hyatt, magnolia...\n",
       "38907    [great, locationshort, walk, from, amtrak, sta...\n",
       "38908    [when, we, booked, this, wa, a, renaissance, h...\n",
       "38909    [hotel, is, an, old, style, red, roof, and, ha...\n",
       "38910    [i, have, to, admit, i, tried, rebooking, sinc...\n",
       "38911    [room, wa, nice, everything, seemed, pretty, n...\n",
       "38912    [then, a, great, place, to, stay, is, this, ho...\n",
       "38913    [i, will, never, ever, stay, at, this, hotel, ...\n",
       "38914    [after, being, on, a, bus, for, hour, and, fin...\n",
       "38915    [pretty, cool, hotel, stayed, for, a, few, day...\n",
       "38916    [we, stopped, over, in, lax, on, the, way, to,...\n",
       "38917    [i, love, this, hotel, and, will, stay, again,...\n",
       "38918    [we, were, excited, about, our, stay, at, the,...\n",
       "38919    [i, didnt, get, to, see, much, of, seattle, bu...\n",
       "38920    [my, husband, and, i, stayed, one, night, at, ...\n",
       "38921    [we, staed, at, the, handlery, hotel, to, visi...\n",
       "38922    [this, hotel, ha, a, great, location, if, you,...\n",
       "38923    [i, am, pretty, impartial, to, this, hotel, i,...\n",
       "38924    [we, booked, a, room, with, two, single, bed, ...\n",
       "38925    [arrived, via, taxi, from, la, guardia, drivin...\n",
       "38926    [i, tend, to, post, review, only, when, i, ve,...\n",
       "38927    [we, arrived, late, at, night, and, walked, in...\n",
       "38928    [the, only, positive, impression, is, location...\n",
       "38929    [traveling, with, friend, for, shopping, and, ...\n",
       "38930    [the, experience, wa, just, ok, we, paid, extr...\n",
       "38931    [the, westin, is, a, wonderfully, restored, gr...\n",
       "Name: new_description_with_split_stopwords_lemma, Length: 38932, dtype: object"
      ]
     },
     "execution_count": 158,
     "metadata": {},
     "output_type": "execute_result"
    }
   ],
   "source": [
    "df[\"new_description_with_split_stopwords_lemma\"]"
   ]
  },
  {
   "cell_type": "code",
   "execution_count": 160,
   "metadata": {},
   "outputs": [],
   "source": [
    "# df[\"new_description_with_split_stopwords\"]"
   ]
  },
  {
   "cell_type": "code",
   "execution_count": 161,
   "metadata": {},
   "outputs": [],
   "source": [
    "from nltk.stem import SnowballStemmer\n",
    "snowball=SnowballStemmer(\"english\")"
   ]
  },
  {
   "cell_type": "code",
   "execution_count": 162,
   "metadata": {},
   "outputs": [
    {
     "data": {
      "text/html": [
       "<div>\n",
       "<style scoped>\n",
       "    .dataframe tbody tr th:only-of-type {\n",
       "        vertical-align: middle;\n",
       "    }\n",
       "\n",
       "    .dataframe tbody tr th {\n",
       "        vertical-align: top;\n",
       "    }\n",
       "\n",
       "    .dataframe thead th {\n",
       "        text-align: right;\n",
       "    }\n",
       "</style>\n",
       "<table border=\"1\" class=\"dataframe\">\n",
       "  <thead>\n",
       "    <tr style=\"text-align: right;\">\n",
       "      <th></th>\n",
       "      <th>User_ID</th>\n",
       "      <th>Description</th>\n",
       "      <th>Browser_Used</th>\n",
       "      <th>Device_Used</th>\n",
       "      <th>Is_Response</th>\n",
       "      <th>new_description</th>\n",
       "      <th>new_description_with_split</th>\n",
       "      <th>new_description_with_split_stopwords_lemma</th>\n",
       "      <th>new_description_with_split_stopwords_stem</th>\n",
       "    </tr>\n",
       "  </thead>\n",
       "  <tbody>\n",
       "    <tr>\n",
       "      <th>0</th>\n",
       "      <td>id10326</td>\n",
       "      <td>The room was kind of clean but had a VERY stro...</td>\n",
       "      <td>Edge</td>\n",
       "      <td>Mobile</td>\n",
       "      <td>not happy</td>\n",
       "      <td>the room was kind of clean but had a very stro...</td>\n",
       "      <td>[the, room, was, kind, of, clean, but, had, a,...</td>\n",
       "      <td>[the, room, wa, kind, of, clean, but, had, a, ...</td>\n",
       "      <td>[the, room, was, kind, of, clean, but, had, a,...</td>\n",
       "    </tr>\n",
       "    <tr>\n",
       "      <th>1</th>\n",
       "      <td>id10327</td>\n",
       "      <td>I stayed at the Crown Plaza April -- - April -...</td>\n",
       "      <td>Internet Explorer</td>\n",
       "      <td>Mobile</td>\n",
       "      <td>not happy</td>\n",
       "      <td>i stayed at the crown plaza april   april   th...</td>\n",
       "      <td>[i, stayed, at, the, crown, plaza, april, apri...</td>\n",
       "      <td>[i, stayed, at, the, crown, plaza, april, apri...</td>\n",
       "      <td>[i, stay, at, the, crown, plaza, april, april,...</td>\n",
       "    </tr>\n",
       "    <tr>\n",
       "      <th>2</th>\n",
       "      <td>id10328</td>\n",
       "      <td>I booked this hotel through Hotwire at the low...</td>\n",
       "      <td>Mozilla</td>\n",
       "      <td>Tablet</td>\n",
       "      <td>not happy</td>\n",
       "      <td>i booked this hotel through hotwire at the low...</td>\n",
       "      <td>[i, booked, this, hotel, through, hotwire, at,...</td>\n",
       "      <td>[i, booked, this, hotel, through, hotwire, at,...</td>\n",
       "      <td>[i, book, this, hotel, through, hotwir, at, th...</td>\n",
       "    </tr>\n",
       "    <tr>\n",
       "      <th>3</th>\n",
       "      <td>id10329</td>\n",
       "      <td>Stayed here with husband and sons on the way t...</td>\n",
       "      <td>InternetExplorer</td>\n",
       "      <td>Desktop</td>\n",
       "      <td>happy</td>\n",
       "      <td>stayed here with husband and sons on the way t...</td>\n",
       "      <td>[stayed, here, with, husband, and, sons, on, t...</td>\n",
       "      <td>[stayed, here, with, husband, and, son, on, th...</td>\n",
       "      <td>[stay, here, with, husband, and, son, on, the,...</td>\n",
       "    </tr>\n",
       "    <tr>\n",
       "      <th>4</th>\n",
       "      <td>id10330</td>\n",
       "      <td>My girlfriends and I stayed here to celebrate ...</td>\n",
       "      <td>Edge</td>\n",
       "      <td>Tablet</td>\n",
       "      <td>not happy</td>\n",
       "      <td>my girlfriends and i stayed here to celebrate ...</td>\n",
       "      <td>[my, girlfriends, and, i, stayed, here, to, ce...</td>\n",
       "      <td>[my, girlfriend, and, i, stayed, here, to, cel...</td>\n",
       "      <td>[my, girlfriend, and, i, stay, here, to, celeb...</td>\n",
       "    </tr>\n",
       "  </tbody>\n",
       "</table>\n",
       "</div>"
      ],
      "text/plain": [
       "   User_ID                                        Description  \\\n",
       "0  id10326  The room was kind of clean but had a VERY stro...   \n",
       "1  id10327  I stayed at the Crown Plaza April -- - April -...   \n",
       "2  id10328  I booked this hotel through Hotwire at the low...   \n",
       "3  id10329  Stayed here with husband and sons on the way t...   \n",
       "4  id10330  My girlfriends and I stayed here to celebrate ...   \n",
       "\n",
       "        Browser_Used Device_Used Is_Response  \\\n",
       "0               Edge      Mobile   not happy   \n",
       "1  Internet Explorer      Mobile   not happy   \n",
       "2            Mozilla      Tablet   not happy   \n",
       "3   InternetExplorer     Desktop       happy   \n",
       "4               Edge      Tablet   not happy   \n",
       "\n",
       "                                     new_description  \\\n",
       "0  the room was kind of clean but had a very stro...   \n",
       "1  i stayed at the crown plaza april   april   th...   \n",
       "2  i booked this hotel through hotwire at the low...   \n",
       "3  stayed here with husband and sons on the way t...   \n",
       "4  my girlfriends and i stayed here to celebrate ...   \n",
       "\n",
       "                          new_description_with_split  \\\n",
       "0  [the, room, was, kind, of, clean, but, had, a,...   \n",
       "1  [i, stayed, at, the, crown, plaza, april, apri...   \n",
       "2  [i, booked, this, hotel, through, hotwire, at,...   \n",
       "3  [stayed, here, with, husband, and, sons, on, t...   \n",
       "4  [my, girlfriends, and, i, stayed, here, to, ce...   \n",
       "\n",
       "          new_description_with_split_stopwords_lemma  \\\n",
       "0  [the, room, wa, kind, of, clean, but, had, a, ...   \n",
       "1  [i, stayed, at, the, crown, plaza, april, apri...   \n",
       "2  [i, booked, this, hotel, through, hotwire, at,...   \n",
       "3  [stayed, here, with, husband, and, son, on, th...   \n",
       "4  [my, girlfriend, and, i, stayed, here, to, cel...   \n",
       "\n",
       "           new_description_with_split_stopwords_stem  \n",
       "0  [the, room, was, kind, of, clean, but, had, a,...  \n",
       "1  [i, stay, at, the, crown, plaza, april, april,...  \n",
       "2  [i, book, this, hotel, through, hotwir, at, th...  \n",
       "3  [stay, here, with, husband, and, son, on, the,...  \n",
       "4  [my, girlfriend, and, i, stay, here, to, celeb...  "
      ]
     },
     "execution_count": 162,
     "metadata": {},
     "output_type": "execute_result"
    }
   ],
   "source": [
    "def snowstem(text):\n",
    "    ss=[snowball.stem(word) for word in text]\n",
    "    return ss\n",
    "\n",
    "df[\"new_description_with_split_stopwords_stem\"]=df[\"new_description_with_split\"].apply(lambda x: snowstem(x))\n",
    "df.head()"
   ]
  },
  {
   "cell_type": "code",
   "execution_count": 165,
   "metadata": {},
   "outputs": [],
   "source": [
    "from nltk.stem import PorterStemmer\n",
    "porter=PorterStemmer()"
   ]
  },
  {
   "cell_type": "code",
   "execution_count": 166,
   "metadata": {},
   "outputs": [
    {
     "data": {
      "text/html": [
       "<div>\n",
       "<style scoped>\n",
       "    .dataframe tbody tr th:only-of-type {\n",
       "        vertical-align: middle;\n",
       "    }\n",
       "\n",
       "    .dataframe tbody tr th {\n",
       "        vertical-align: top;\n",
       "    }\n",
       "\n",
       "    .dataframe thead th {\n",
       "        text-align: right;\n",
       "    }\n",
       "</style>\n",
       "<table border=\"1\" class=\"dataframe\">\n",
       "  <thead>\n",
       "    <tr style=\"text-align: right;\">\n",
       "      <th></th>\n",
       "      <th>User_ID</th>\n",
       "      <th>Description</th>\n",
       "      <th>Browser_Used</th>\n",
       "      <th>Device_Used</th>\n",
       "      <th>Is_Response</th>\n",
       "      <th>new_description</th>\n",
       "      <th>new_description_with_split</th>\n",
       "      <th>new_description_with_split_stopwords_lemma</th>\n",
       "      <th>new_description_with_split_stopwords_stem</th>\n",
       "      <th>new_description_with_split_stopwords_portstem</th>\n",
       "    </tr>\n",
       "  </thead>\n",
       "  <tbody>\n",
       "    <tr>\n",
       "      <th>0</th>\n",
       "      <td>id10326</td>\n",
       "      <td>The room was kind of clean but had a VERY stro...</td>\n",
       "      <td>Edge</td>\n",
       "      <td>Mobile</td>\n",
       "      <td>not happy</td>\n",
       "      <td>the room was kind of clean but had a very stro...</td>\n",
       "      <td>[the, room, was, kind, of, clean, but, had, a,...</td>\n",
       "      <td>[the, room, wa, kind, of, clean, but, had, a, ...</td>\n",
       "      <td>[the, room, was, kind, of, clean, but, had, a,...</td>\n",
       "      <td>the room wa kind of clean but had a veri stron...</td>\n",
       "    </tr>\n",
       "    <tr>\n",
       "      <th>1</th>\n",
       "      <td>id10327</td>\n",
       "      <td>I stayed at the Crown Plaza April -- - April -...</td>\n",
       "      <td>Internet Explorer</td>\n",
       "      <td>Mobile</td>\n",
       "      <td>not happy</td>\n",
       "      <td>i stayed at the crown plaza april   april   th...</td>\n",
       "      <td>[i, stayed, at, the, crown, plaza, april, apri...</td>\n",
       "      <td>[i, stayed, at, the, crown, plaza, april, apri...</td>\n",
       "      <td>[i, stay, at, the, crown, plaza, april, april,...</td>\n",
       "      <td>i stay at the crown plaza april april the staf...</td>\n",
       "    </tr>\n",
       "    <tr>\n",
       "      <th>2</th>\n",
       "      <td>id10328</td>\n",
       "      <td>I booked this hotel through Hotwire at the low...</td>\n",
       "      <td>Mozilla</td>\n",
       "      <td>Tablet</td>\n",
       "      <td>not happy</td>\n",
       "      <td>i booked this hotel through hotwire at the low...</td>\n",
       "      <td>[i, booked, this, hotel, through, hotwire, at,...</td>\n",
       "      <td>[i, booked, this, hotel, through, hotwire, at,...</td>\n",
       "      <td>[i, book, this, hotel, through, hotwir, at, th...</td>\n",
       "      <td>i book thi hotel through hotwir at the lowest ...</td>\n",
       "    </tr>\n",
       "    <tr>\n",
       "      <th>3</th>\n",
       "      <td>id10329</td>\n",
       "      <td>Stayed here with husband and sons on the way t...</td>\n",
       "      <td>InternetExplorer</td>\n",
       "      <td>Desktop</td>\n",
       "      <td>happy</td>\n",
       "      <td>stayed here with husband and sons on the way t...</td>\n",
       "      <td>[stayed, here, with, husband, and, sons, on, t...</td>\n",
       "      <td>[stayed, here, with, husband, and, son, on, th...</td>\n",
       "      <td>[stay, here, with, husband, and, son, on, the,...</td>\n",
       "      <td>stay here with husband and son on the way to a...</td>\n",
       "    </tr>\n",
       "    <tr>\n",
       "      <th>4</th>\n",
       "      <td>id10330</td>\n",
       "      <td>My girlfriends and I stayed here to celebrate ...</td>\n",
       "      <td>Edge</td>\n",
       "      <td>Tablet</td>\n",
       "      <td>not happy</td>\n",
       "      <td>my girlfriends and i stayed here to celebrate ...</td>\n",
       "      <td>[my, girlfriends, and, i, stayed, here, to, ce...</td>\n",
       "      <td>[my, girlfriend, and, i, stayed, here, to, cel...</td>\n",
       "      <td>[my, girlfriend, and, i, stay, here, to, celeb...</td>\n",
       "      <td>my girlfriend and i stay here to celebr our th...</td>\n",
       "    </tr>\n",
       "  </tbody>\n",
       "</table>\n",
       "</div>"
      ],
      "text/plain": [
       "   User_ID                                        Description  \\\n",
       "0  id10326  The room was kind of clean but had a VERY stro...   \n",
       "1  id10327  I stayed at the Crown Plaza April -- - April -...   \n",
       "2  id10328  I booked this hotel through Hotwire at the low...   \n",
       "3  id10329  Stayed here with husband and sons on the way t...   \n",
       "4  id10330  My girlfriends and I stayed here to celebrate ...   \n",
       "\n",
       "        Browser_Used Device_Used Is_Response  \\\n",
       "0               Edge      Mobile   not happy   \n",
       "1  Internet Explorer      Mobile   not happy   \n",
       "2            Mozilla      Tablet   not happy   \n",
       "3   InternetExplorer     Desktop       happy   \n",
       "4               Edge      Tablet   not happy   \n",
       "\n",
       "                                     new_description  \\\n",
       "0  the room was kind of clean but had a very stro...   \n",
       "1  i stayed at the crown plaza april   april   th...   \n",
       "2  i booked this hotel through hotwire at the low...   \n",
       "3  stayed here with husband and sons on the way t...   \n",
       "4  my girlfriends and i stayed here to celebrate ...   \n",
       "\n",
       "                          new_description_with_split  \\\n",
       "0  [the, room, was, kind, of, clean, but, had, a,...   \n",
       "1  [i, stayed, at, the, crown, plaza, april, apri...   \n",
       "2  [i, booked, this, hotel, through, hotwire, at,...   \n",
       "3  [stayed, here, with, husband, and, sons, on, t...   \n",
       "4  [my, girlfriends, and, i, stayed, here, to, ce...   \n",
       "\n",
       "          new_description_with_split_stopwords_lemma  \\\n",
       "0  [the, room, wa, kind, of, clean, but, had, a, ...   \n",
       "1  [i, stayed, at, the, crown, plaza, april, apri...   \n",
       "2  [i, booked, this, hotel, through, hotwire, at,...   \n",
       "3  [stayed, here, with, husband, and, son, on, th...   \n",
       "4  [my, girlfriend, and, i, stayed, here, to, cel...   \n",
       "\n",
       "           new_description_with_split_stopwords_stem  \\\n",
       "0  [the, room, was, kind, of, clean, but, had, a,...   \n",
       "1  [i, stay, at, the, crown, plaza, april, april,...   \n",
       "2  [i, book, this, hotel, through, hotwir, at, th...   \n",
       "3  [stay, here, with, husband, and, son, on, the,...   \n",
       "4  [my, girlfriend, and, i, stay, here, to, celeb...   \n",
       "\n",
       "       new_description_with_split_stopwords_portstem  \n",
       "0  the room wa kind of clean but had a veri stron...  \n",
       "1  i stay at the crown plaza april april the staf...  \n",
       "2  i book thi hotel through hotwir at the lowest ...  \n",
       "3  stay here with husband and son on the way to a...  \n",
       "4  my girlfriend and i stay here to celebr our th...  "
      ]
     },
     "execution_count": 166,
     "metadata": {},
     "output_type": "execute_result"
    }
   ],
   "source": [
    "def portstem(text):\n",
    "    ps=\" \".join([porter.stem(word) for word in text])\n",
    "    return ps\n",
    "\n",
    "df[\"new_description_with_split_stopwords_portstem\"]=df[\"new_description_with_split\"].apply(lambda x: portstem(x))\n",
    "df.head()"
   ]
  },
  {
   "cell_type": "code",
   "execution_count": 168,
   "metadata": {},
   "outputs": [],
   "source": [
    "# as we can see from the above data that stemming here is more useful that lemmatization , because lemmatization could barely\n",
    "# differentiate from the other columns , so henceforth we will dropping all those columns which will not useful in the further\n",
    "# process of our sentiment analysis"
   ]
  },
  {
   "cell_type": "code",
   "execution_count": 169,
   "metadata": {},
   "outputs": [
    {
     "data": {
      "text/plain": [
       "Index(['User_ID', 'Description', 'Browser_Used', 'Device_Used', 'Is_Response',\n",
       "       'new_description', 'new_description_with_split',\n",
       "       'new_description_with_split_stopwords_lemma',\n",
       "       'new_description_with_split_stopwords_stem',\n",
       "       'new_description_with_split_stopwords_portstem'],\n",
       "      dtype='object')"
      ]
     },
     "execution_count": 169,
     "metadata": {},
     "output_type": "execute_result"
    }
   ],
   "source": [
    "df.columns"
   ]
  },
  {
   "cell_type": "code",
   "execution_count": 170,
   "metadata": {},
   "outputs": [
    {
     "data": {
      "text/html": [
       "<div>\n",
       "<style scoped>\n",
       "    .dataframe tbody tr th:only-of-type {\n",
       "        vertical-align: middle;\n",
       "    }\n",
       "\n",
       "    .dataframe tbody tr th {\n",
       "        vertical-align: top;\n",
       "    }\n",
       "\n",
       "    .dataframe thead th {\n",
       "        text-align: right;\n",
       "    }\n",
       "</style>\n",
       "<table border=\"1\" class=\"dataframe\">\n",
       "  <thead>\n",
       "    <tr style=\"text-align: right;\">\n",
       "      <th></th>\n",
       "      <th>User_ID</th>\n",
       "      <th>Description</th>\n",
       "      <th>Browser_Used</th>\n",
       "      <th>Device_Used</th>\n",
       "      <th>Is_Response</th>\n",
       "      <th>new_description</th>\n",
       "      <th>new_description_with_split</th>\n",
       "      <th>new_description_with_split_stopwords_lemma</th>\n",
       "      <th>new_description_with_split_stopwords_stem</th>\n",
       "      <th>new_description_with_split_stopwords_portstem</th>\n",
       "    </tr>\n",
       "  </thead>\n",
       "  <tbody>\n",
       "    <tr>\n",
       "      <th>0</th>\n",
       "      <td>id10326</td>\n",
       "      <td>The room was kind of clean but had a VERY stro...</td>\n",
       "      <td>Edge</td>\n",
       "      <td>Mobile</td>\n",
       "      <td>not happy</td>\n",
       "      <td>the room was kind of clean but had a very stro...</td>\n",
       "      <td>[the, room, was, kind, of, clean, but, had, a,...</td>\n",
       "      <td>[the, room, wa, kind, of, clean, but, had, a, ...</td>\n",
       "      <td>[the, room, was, kind, of, clean, but, had, a,...</td>\n",
       "      <td>the room wa kind of clean but had a veri stron...</td>\n",
       "    </tr>\n",
       "    <tr>\n",
       "      <th>1</th>\n",
       "      <td>id10327</td>\n",
       "      <td>I stayed at the Crown Plaza April -- - April -...</td>\n",
       "      <td>Internet Explorer</td>\n",
       "      <td>Mobile</td>\n",
       "      <td>not happy</td>\n",
       "      <td>i stayed at the crown plaza april   april   th...</td>\n",
       "      <td>[i, stayed, at, the, crown, plaza, april, apri...</td>\n",
       "      <td>[i, stayed, at, the, crown, plaza, april, apri...</td>\n",
       "      <td>[i, stay, at, the, crown, plaza, april, april,...</td>\n",
       "      <td>i stay at the crown plaza april april the staf...</td>\n",
       "    </tr>\n",
       "    <tr>\n",
       "      <th>2</th>\n",
       "      <td>id10328</td>\n",
       "      <td>I booked this hotel through Hotwire at the low...</td>\n",
       "      <td>Mozilla</td>\n",
       "      <td>Tablet</td>\n",
       "      <td>not happy</td>\n",
       "      <td>i booked this hotel through hotwire at the low...</td>\n",
       "      <td>[i, booked, this, hotel, through, hotwire, at,...</td>\n",
       "      <td>[i, booked, this, hotel, through, hotwire, at,...</td>\n",
       "      <td>[i, book, this, hotel, through, hotwir, at, th...</td>\n",
       "      <td>i book thi hotel through hotwir at the lowest ...</td>\n",
       "    </tr>\n",
       "    <tr>\n",
       "      <th>3</th>\n",
       "      <td>id10329</td>\n",
       "      <td>Stayed here with husband and sons on the way t...</td>\n",
       "      <td>InternetExplorer</td>\n",
       "      <td>Desktop</td>\n",
       "      <td>happy</td>\n",
       "      <td>stayed here with husband and sons on the way t...</td>\n",
       "      <td>[stayed, here, with, husband, and, sons, on, t...</td>\n",
       "      <td>[stayed, here, with, husband, and, son, on, th...</td>\n",
       "      <td>[stay, here, with, husband, and, son, on, the,...</td>\n",
       "      <td>stay here with husband and son on the way to a...</td>\n",
       "    </tr>\n",
       "    <tr>\n",
       "      <th>4</th>\n",
       "      <td>id10330</td>\n",
       "      <td>My girlfriends and I stayed here to celebrate ...</td>\n",
       "      <td>Edge</td>\n",
       "      <td>Tablet</td>\n",
       "      <td>not happy</td>\n",
       "      <td>my girlfriends and i stayed here to celebrate ...</td>\n",
       "      <td>[my, girlfriends, and, i, stayed, here, to, ce...</td>\n",
       "      <td>[my, girlfriend, and, i, stayed, here, to, cel...</td>\n",
       "      <td>[my, girlfriend, and, i, stay, here, to, celeb...</td>\n",
       "      <td>my girlfriend and i stay here to celebr our th...</td>\n",
       "    </tr>\n",
       "  </tbody>\n",
       "</table>\n",
       "</div>"
      ],
      "text/plain": [
       "   User_ID                                        Description  \\\n",
       "0  id10326  The room was kind of clean but had a VERY stro...   \n",
       "1  id10327  I stayed at the Crown Plaza April -- - April -...   \n",
       "2  id10328  I booked this hotel through Hotwire at the low...   \n",
       "3  id10329  Stayed here with husband and sons on the way t...   \n",
       "4  id10330  My girlfriends and I stayed here to celebrate ...   \n",
       "\n",
       "        Browser_Used Device_Used Is_Response  \\\n",
       "0               Edge      Mobile   not happy   \n",
       "1  Internet Explorer      Mobile   not happy   \n",
       "2            Mozilla      Tablet   not happy   \n",
       "3   InternetExplorer     Desktop       happy   \n",
       "4               Edge      Tablet   not happy   \n",
       "\n",
       "                                     new_description  \\\n",
       "0  the room was kind of clean but had a very stro...   \n",
       "1  i stayed at the crown plaza april   april   th...   \n",
       "2  i booked this hotel through hotwire at the low...   \n",
       "3  stayed here with husband and sons on the way t...   \n",
       "4  my girlfriends and i stayed here to celebrate ...   \n",
       "\n",
       "                          new_description_with_split  \\\n",
       "0  [the, room, was, kind, of, clean, but, had, a,...   \n",
       "1  [i, stayed, at, the, crown, plaza, april, apri...   \n",
       "2  [i, booked, this, hotel, through, hotwire, at,...   \n",
       "3  [stayed, here, with, husband, and, sons, on, t...   \n",
       "4  [my, girlfriends, and, i, stayed, here, to, ce...   \n",
       "\n",
       "          new_description_with_split_stopwords_lemma  \\\n",
       "0  [the, room, wa, kind, of, clean, but, had, a, ...   \n",
       "1  [i, stayed, at, the, crown, plaza, april, apri...   \n",
       "2  [i, booked, this, hotel, through, hotwire, at,...   \n",
       "3  [stayed, here, with, husband, and, son, on, th...   \n",
       "4  [my, girlfriend, and, i, stayed, here, to, cel...   \n",
       "\n",
       "           new_description_with_split_stopwords_stem  \\\n",
       "0  [the, room, was, kind, of, clean, but, had, a,...   \n",
       "1  [i, stay, at, the, crown, plaza, april, april,...   \n",
       "2  [i, book, this, hotel, through, hotwir, at, th...   \n",
       "3  [stay, here, with, husband, and, son, on, the,...   \n",
       "4  [my, girlfriend, and, i, stay, here, to, celeb...   \n",
       "\n",
       "       new_description_with_split_stopwords_portstem  \n",
       "0  the room wa kind of clean but had a veri stron...  \n",
       "1  i stay at the crown plaza april april the staf...  \n",
       "2  i book thi hotel through hotwir at the lowest ...  \n",
       "3  stay here with husband and son on the way to a...  \n",
       "4  my girlfriend and i stay here to celebr our th...  "
      ]
     },
     "execution_count": 170,
     "metadata": {},
     "output_type": "execute_result"
    }
   ],
   "source": [
    "newdf=pd.DataFrame(data=df)\n",
    "newdf.head()"
   ]
  },
  {
   "cell_type": "code",
   "execution_count": 171,
   "metadata": {},
   "outputs": [
    {
     "data": {
      "text/html": [
       "<div>\n",
       "<style scoped>\n",
       "    .dataframe tbody tr th:only-of-type {\n",
       "        vertical-align: middle;\n",
       "    }\n",
       "\n",
       "    .dataframe tbody tr th {\n",
       "        vertical-align: top;\n",
       "    }\n",
       "\n",
       "    .dataframe thead th {\n",
       "        text-align: right;\n",
       "    }\n",
       "</style>\n",
       "<table border=\"1\" class=\"dataframe\">\n",
       "  <thead>\n",
       "    <tr style=\"text-align: right;\">\n",
       "      <th></th>\n",
       "      <th>Is_Response</th>\n",
       "      <th>new_description_with_split_stopwords_portstem</th>\n",
       "    </tr>\n",
       "  </thead>\n",
       "  <tbody>\n",
       "    <tr>\n",
       "      <th>0</th>\n",
       "      <td>not happy</td>\n",
       "      <td>the room wa kind of clean but had a veri stron...</td>\n",
       "    </tr>\n",
       "    <tr>\n",
       "      <th>1</th>\n",
       "      <td>not happy</td>\n",
       "      <td>i stay at the crown plaza april april the staf...</td>\n",
       "    </tr>\n",
       "    <tr>\n",
       "      <th>2</th>\n",
       "      <td>not happy</td>\n",
       "      <td>i book thi hotel through hotwir at the lowest ...</td>\n",
       "    </tr>\n",
       "    <tr>\n",
       "      <th>3</th>\n",
       "      <td>happy</td>\n",
       "      <td>stay here with husband and son on the way to a...</td>\n",
       "    </tr>\n",
       "    <tr>\n",
       "      <th>4</th>\n",
       "      <td>not happy</td>\n",
       "      <td>my girlfriend and i stay here to celebr our th...</td>\n",
       "    </tr>\n",
       "  </tbody>\n",
       "</table>\n",
       "</div>"
      ],
      "text/plain": [
       "  Is_Response      new_description_with_split_stopwords_portstem\n",
       "0   not happy  the room wa kind of clean but had a veri stron...\n",
       "1   not happy  i stay at the crown plaza april april the staf...\n",
       "2   not happy  i book thi hotel through hotwir at the lowest ...\n",
       "3       happy  stay here with husband and son on the way to a...\n",
       "4   not happy  my girlfriend and i stay here to celebr our th..."
      ]
     },
     "execution_count": 171,
     "metadata": {},
     "output_type": "execute_result"
    }
   ],
   "source": [
    "newdf.drop(columns=['User_ID', 'Description', 'Browser_Used', 'Device_Used',\n",
    "       'new_description', 'new_description_with_split',\n",
    "       'new_description_with_split_stopwords_lemma',\n",
    "       'new_description_with_split_stopwords_stem'],inplace=True)\n",
    "\n",
    "newdf.head()"
   ]
  },
  {
   "cell_type": "markdown",
   "metadata": {},
   "source": [
    "# LABEL Encoding"
   ]
  },
  {
   "cell_type": "code",
   "execution_count": 173,
   "metadata": {},
   "outputs": [],
   "source": [
    "from sklearn import preprocessing\n",
    "\n",
    "label_encoder=preprocessing.LabelEncoder()"
   ]
  },
  {
   "cell_type": "code",
   "execution_count": 174,
   "metadata": {},
   "outputs": [
    {
     "data": {
      "text/html": [
       "<div>\n",
       "<style scoped>\n",
       "    .dataframe tbody tr th:only-of-type {\n",
       "        vertical-align: middle;\n",
       "    }\n",
       "\n",
       "    .dataframe tbody tr th {\n",
       "        vertical-align: top;\n",
       "    }\n",
       "\n",
       "    .dataframe thead th {\n",
       "        text-align: right;\n",
       "    }\n",
       "</style>\n",
       "<table border=\"1\" class=\"dataframe\">\n",
       "  <thead>\n",
       "    <tr style=\"text-align: right;\">\n",
       "      <th></th>\n",
       "      <th>Is_Response</th>\n",
       "      <th>new_description_with_split_stopwords_portstem</th>\n",
       "    </tr>\n",
       "  </thead>\n",
       "  <tbody>\n",
       "    <tr>\n",
       "      <th>0</th>\n",
       "      <td>1</td>\n",
       "      <td>the room wa kind of clean but had a veri stron...</td>\n",
       "    </tr>\n",
       "    <tr>\n",
       "      <th>1</th>\n",
       "      <td>1</td>\n",
       "      <td>i stay at the crown plaza april april the staf...</td>\n",
       "    </tr>\n",
       "    <tr>\n",
       "      <th>2</th>\n",
       "      <td>1</td>\n",
       "      <td>i book thi hotel through hotwir at the lowest ...</td>\n",
       "    </tr>\n",
       "    <tr>\n",
       "      <th>3</th>\n",
       "      <td>0</td>\n",
       "      <td>stay here with husband and son on the way to a...</td>\n",
       "    </tr>\n",
       "    <tr>\n",
       "      <th>4</th>\n",
       "      <td>1</td>\n",
       "      <td>my girlfriend and i stay here to celebr our th...</td>\n",
       "    </tr>\n",
       "  </tbody>\n",
       "</table>\n",
       "</div>"
      ],
      "text/plain": [
       "   Is_Response      new_description_with_split_stopwords_portstem\n",
       "0            1  the room wa kind of clean but had a veri stron...\n",
       "1            1  i stay at the crown plaza april april the staf...\n",
       "2            1  i book thi hotel through hotwir at the lowest ...\n",
       "3            0  stay here with husband and son on the way to a...\n",
       "4            1  my girlfriend and i stay here to celebr our th..."
      ]
     },
     "execution_count": 174,
     "metadata": {},
     "output_type": "execute_result"
    }
   ],
   "source": [
    "newdf[\"Is_Response\"]=label_encoder.fit_transform(newdf[\"Is_Response\"])\n",
    "newdf.head()\n",
    "\n",
    "# 1 ---> not happy\n",
    "# 0 ---. happy"
   ]
  },
  {
   "cell_type": "markdown",
   "metadata": {},
   "source": [
    "### MODEL TRAINING"
   ]
  },
  {
   "cell_type": "code",
   "execution_count": 175,
   "metadata": {},
   "outputs": [],
   "source": [
    "from sklearn.model_selection import train_test_split"
   ]
  },
  {
   "cell_type": "code",
   "execution_count": 176,
   "metadata": {},
   "outputs": [],
   "source": [
    "y=newdf[\"Is_Response\"]\n",
    "x=newdf[\"new_description_with_split_stopwords_portstem\"]"
   ]
  },
  {
   "cell_type": "code",
   "execution_count": 177,
   "metadata": {},
   "outputs": [
    {
     "data": {
      "text/plain": [
       "0    1\n",
       "1    1\n",
       "2    1\n",
       "3    0\n",
       "4    1\n",
       "Name: Is_Response, dtype: int32"
      ]
     },
     "execution_count": 177,
     "metadata": {},
     "output_type": "execute_result"
    }
   ],
   "source": [
    "y.head()"
   ]
  },
  {
   "cell_type": "code",
   "execution_count": 178,
   "metadata": {},
   "outputs": [
    {
     "data": {
      "text/plain": [
       "0    the room wa kind of clean but had a veri stron...\n",
       "1    i stay at the crown plaza april april the staf...\n",
       "2    i book thi hotel through hotwir at the lowest ...\n",
       "3    stay here with husband and son on the way to a...\n",
       "4    my girlfriend and i stay here to celebr our th...\n",
       "Name: new_description_with_split_stopwords_portstem, dtype: object"
      ]
     },
     "execution_count": 178,
     "metadata": {},
     "output_type": "execute_result"
    }
   ],
   "source": [
    "x.head()"
   ]
  },
  {
   "cell_type": "code",
   "execution_count": 179,
   "metadata": {},
   "outputs": [
    {
     "name": "stdout",
     "output_type": "stream",
     "text": [
      "27252\n",
      "27252\n",
      "11680\n",
      "11680\n"
     ]
    }
   ],
   "source": [
    "x_train,x_test,y_train,y_test=train_test_split(x,y,test_size=.30,random_state=50)\n",
    "\n",
    "print(len(x_train))\n",
    "print(len(y_train))\n",
    "print(len(x_test))\n",
    "print(len(y_test))"
   ]
  },
  {
   "cell_type": "code",
   "execution_count": 180,
   "metadata": {},
   "outputs": [],
   "source": [
    "from sklearn.feature_extraction.text import TfidfVectorizer\n",
    "from sklearn.linear_model import LogisticRegression\n",
    "from sklearn.pipeline import Pipeline\n",
    "from sklearn.metrics import confusion_matrix"
   ]
  },
  {
   "cell_type": "code",
   "execution_count": 181,
   "metadata": {},
   "outputs": [
    {
     "data": {
      "text/plain": [
       "Pipeline(memory=None,\n",
       "         steps=[('vectorizer',\n",
       "                 TfidfVectorizer(analyzer='word', binary=False,\n",
       "                                 decode_error='strict',\n",
       "                                 dtype=<class 'numpy.float64'>,\n",
       "                                 encoding='utf-8', input='content',\n",
       "                                 lowercase=True, max_df=1.0, max_features=None,\n",
       "                                 min_df=1, ngram_range=(1, 1), norm='l2',\n",
       "                                 preprocessor=None, smooth_idf=True,\n",
       "                                 stop_words=None, strip_accents=None,\n",
       "                                 sublinear_tf=False,\n",
       "                                 token_pattern='(?u)\\\\b\\\\w\\\\w+\\\\b',\n",
       "                                 tokenizer=None, use_idf=True,\n",
       "                                 vocabulary=None)),\n",
       "                ('classifier',\n",
       "                 LogisticRegression(C=1.0, class_weight=None, dual=False,\n",
       "                                    fit_intercept=True, intercept_scaling=1,\n",
       "                                    l1_ratio=None, max_iter=100,\n",
       "                                    multi_class='warn', n_jobs=None,\n",
       "                                    penalty='l2', random_state=None,\n",
       "                                    solver='lbfgs', tol=0.0001, verbose=0,\n",
       "                                    warm_start=False))],\n",
       "         verbose=False)"
      ]
     },
     "execution_count": 181,
     "metadata": {},
     "output_type": "execute_result"
    }
   ],
   "source": [
    "tfidf=TfidfVectorizer()\n",
    "clfr= LogisticRegression(solver=\"lbfgs\")\n",
    "\n",
    "model=Pipeline([(\"vectorizer\",tfidf),(\"classifier\",clfr)])\n",
    "\n",
    "model.fit(x_train,y_train)"
   ]
  },
  {
   "cell_type": "code",
   "execution_count": 182,
   "metadata": {},
   "outputs": [],
   "source": [
    "pred=model.predict(x_test)"
   ]
  },
  {
   "cell_type": "code",
   "execution_count": 183,
   "metadata": {},
   "outputs": [
    {
     "data": {
      "text/plain": [
       "array([0, 1, 0, ..., 1, 0, 1])"
      ]
     },
     "execution_count": 183,
     "metadata": {},
     "output_type": "execute_result"
    }
   ],
   "source": [
    "pred"
   ]
  },
  {
   "cell_type": "code",
   "execution_count": 184,
   "metadata": {},
   "outputs": [
    {
     "data": {
      "text/plain": [
       "array([[7516,  803],\n",
       "       [ 486, 2875]], dtype=int64)"
      ]
     },
     "execution_count": 184,
     "metadata": {},
     "output_type": "execute_result"
    }
   ],
   "source": [
    "confusion_matrix(pred,y_test)"
   ]
  },
  {
   "cell_type": "code",
   "execution_count": 185,
   "metadata": {},
   "outputs": [],
   "source": [
    "from sklearn.metrics import accuracy_score, precision_score, recall_score\n",
    "import warnings\n",
    "warnings.filterwarnings(\"ignore\")"
   ]
  },
  {
   "cell_type": "code",
   "execution_count": 186,
   "metadata": {},
   "outputs": [
    {
     "name": "stdout",
     "output_type": "stream",
     "text": [
      "Accuracy:  0.8896404109589041\n",
      "Precision:  0.8939174781041512\n",
      "Recall:  0.8896404109589041\n"
     ]
    }
   ],
   "source": [
    "print(\"Accuracy: \", accuracy_score(pred,y_test))\n",
    "print(\"Precision: \", precision_score(pred,y_test,average=\"weighted\"))\n",
    "print(\"Recall: \",recall_score(pred,y_test,average=\"weighted\"))"
   ]
  },
  {
   "cell_type": "markdown",
   "metadata": {},
   "source": [
    "### Predicting your model"
   ]
  },
  {
   "cell_type": "code",
   "execution_count": 196,
   "metadata": {},
   "outputs": [
    {
     "data": {
      "text/html": [
       "<div>\n",
       "<style scoped>\n",
       "    .dataframe tbody tr th:only-of-type {\n",
       "        vertical-align: middle;\n",
       "    }\n",
       "\n",
       "    .dataframe tbody tr th {\n",
       "        vertical-align: top;\n",
       "    }\n",
       "\n",
       "    .dataframe thead th {\n",
       "        text-align: right;\n",
       "    }\n",
       "</style>\n",
       "<table border=\"1\" class=\"dataframe\">\n",
       "  <thead>\n",
       "    <tr style=\"text-align: right;\">\n",
       "      <th></th>\n",
       "      <th>User_ID</th>\n",
       "      <th>Description</th>\n",
       "      <th>Browser_Used</th>\n",
       "      <th>Device_Used</th>\n",
       "    </tr>\n",
       "  </thead>\n",
       "  <tbody>\n",
       "    <tr>\n",
       "      <th>0</th>\n",
       "      <td>id80132</td>\n",
       "      <td>Looking for a motel in close proximity to TV t...</td>\n",
       "      <td>Firefox</td>\n",
       "      <td>Mobile</td>\n",
       "    </tr>\n",
       "    <tr>\n",
       "      <th>1</th>\n",
       "      <td>id80133</td>\n",
       "      <td>Walking distance to Madison Square Garden and ...</td>\n",
       "      <td>InternetExplorer</td>\n",
       "      <td>Desktop</td>\n",
       "    </tr>\n",
       "    <tr>\n",
       "      <th>2</th>\n",
       "      <td>id80134</td>\n",
       "      <td>Visited Seattle on business. Spent - nights in...</td>\n",
       "      <td>IE</td>\n",
       "      <td>Tablet</td>\n",
       "    </tr>\n",
       "    <tr>\n",
       "      <th>3</th>\n",
       "      <td>id80135</td>\n",
       "      <td>This hotel location is excellent and the rooms...</td>\n",
       "      <td>Edge</td>\n",
       "      <td>Mobile</td>\n",
       "    </tr>\n",
       "    <tr>\n",
       "      <th>4</th>\n",
       "      <td>id80136</td>\n",
       "      <td>This hotel is awesome I love the service Antho...</td>\n",
       "      <td>Mozilla</td>\n",
       "      <td>Mobile</td>\n",
       "    </tr>\n",
       "  </tbody>\n",
       "</table>\n",
       "</div>"
      ],
      "text/plain": [
       "   User_ID                                        Description  \\\n",
       "0  id80132  Looking for a motel in close proximity to TV t...   \n",
       "1  id80133  Walking distance to Madison Square Garden and ...   \n",
       "2  id80134  Visited Seattle on business. Spent - nights in...   \n",
       "3  id80135  This hotel location is excellent and the rooms...   \n",
       "4  id80136  This hotel is awesome I love the service Antho...   \n",
       "\n",
       "       Browser_Used Device_Used  \n",
       "0           Firefox      Mobile  \n",
       "1  InternetExplorer     Desktop  \n",
       "2                IE      Tablet  \n",
       "3              Edge      Mobile  \n",
       "4           Mozilla      Mobile  "
      ]
     },
     "execution_count": 196,
     "metadata": {},
     "output_type": "execute_result"
    }
   ],
   "source": [
    "testdf=pd.read_csv(r\"C:\\Users\\HP\\Desktop\\PYTHON\\NLP\\ZIP NLP\\projects\\test.csv\")\n",
    "testdf=pd.DataFrame(data=testdf)\n",
    "testdf.head()\n",
    "\n",
    "#importing the test-data set"
   ]
  },
  {
   "cell_type": "code",
   "execution_count": 203,
   "metadata": {},
   "outputs": [
    {
     "name": "stdout",
     "output_type": "stream",
     "text": [
      "[1 0 1 ... 0 0 0]\n"
     ]
    }
   ],
   "source": [
    "r=model.predict(testdf[\"Description\"])\n",
    "print(r)\n",
    "#testing the model only on description because this is the only useful feature"
   ]
  },
  {
   "cell_type": "code",
   "execution_count": 211,
   "metadata": {},
   "outputs": [
    {
     "data": {
      "text/html": [
       "<div>\n",
       "<style scoped>\n",
       "    .dataframe tbody tr th:only-of-type {\n",
       "        vertical-align: middle;\n",
       "    }\n",
       "\n",
       "    .dataframe tbody tr th {\n",
       "        vertical-align: top;\n",
       "    }\n",
       "\n",
       "    .dataframe thead th {\n",
       "        text-align: right;\n",
       "    }\n",
       "</style>\n",
       "<table border=\"1\" class=\"dataframe\">\n",
       "  <thead>\n",
       "    <tr style=\"text-align: right;\">\n",
       "      <th></th>\n",
       "      <th>User_ID</th>\n",
       "      <th>Description</th>\n",
       "      <th>Browser_Used</th>\n",
       "      <th>Device_Used</th>\n",
       "      <th>pred_val</th>\n",
       "    </tr>\n",
       "  </thead>\n",
       "  <tbody>\n",
       "    <tr>\n",
       "      <th>0</th>\n",
       "      <td>id80132</td>\n",
       "      <td>Looking for a motel in close proximity to TV t...</td>\n",
       "      <td>Firefox</td>\n",
       "      <td>Mobile</td>\n",
       "      <td>1</td>\n",
       "    </tr>\n",
       "    <tr>\n",
       "      <th>1</th>\n",
       "      <td>id80133</td>\n",
       "      <td>Walking distance to Madison Square Garden and ...</td>\n",
       "      <td>InternetExplorer</td>\n",
       "      <td>Desktop</td>\n",
       "      <td>0</td>\n",
       "    </tr>\n",
       "    <tr>\n",
       "      <th>2</th>\n",
       "      <td>id80134</td>\n",
       "      <td>Visited Seattle on business. Spent - nights in...</td>\n",
       "      <td>IE</td>\n",
       "      <td>Tablet</td>\n",
       "      <td>1</td>\n",
       "    </tr>\n",
       "    <tr>\n",
       "      <th>3</th>\n",
       "      <td>id80135</td>\n",
       "      <td>This hotel location is excellent and the rooms...</td>\n",
       "      <td>Edge</td>\n",
       "      <td>Mobile</td>\n",
       "      <td>1</td>\n",
       "    </tr>\n",
       "    <tr>\n",
       "      <th>4</th>\n",
       "      <td>id80136</td>\n",
       "      <td>This hotel is awesome I love the service Antho...</td>\n",
       "      <td>Mozilla</td>\n",
       "      <td>Mobile</td>\n",
       "      <td>0</td>\n",
       "    </tr>\n",
       "  </tbody>\n",
       "</table>\n",
       "</div>"
      ],
      "text/plain": [
       "   User_ID                                        Description  \\\n",
       "0  id80132  Looking for a motel in close proximity to TV t...   \n",
       "1  id80133  Walking distance to Madison Square Garden and ...   \n",
       "2  id80134  Visited Seattle on business. Spent - nights in...   \n",
       "3  id80135  This hotel location is excellent and the rooms...   \n",
       "4  id80136  This hotel is awesome I love the service Antho...   \n",
       "\n",
       "       Browser_Used Device_Used  pred_val  \n",
       "0           Firefox      Mobile         1  \n",
       "1  InternetExplorer     Desktop         0  \n",
       "2                IE      Tablet         1  \n",
       "3              Edge      Mobile         1  \n",
       "4           Mozilla      Mobile         0  "
      ]
     },
     "execution_count": 211,
     "metadata": {},
     "output_type": "execute_result"
    }
   ],
   "source": [
    "testdf[\"pred_val\"]=r\n",
    "testdf.head()"
   ]
  },
  {
   "cell_type": "code",
   "execution_count": 212,
   "metadata": {},
   "outputs": [],
   "source": [
    "testdf.drop(columns=[\"User_ID\",\"Browser_Used\",\"Device_Used\"],inplace=True)"
   ]
  },
  {
   "cell_type": "code",
   "execution_count": 216,
   "metadata": {},
   "outputs": [
    {
     "data": {
      "text/html": [
       "<div>\n",
       "<style scoped>\n",
       "    .dataframe tbody tr th:only-of-type {\n",
       "        vertical-align: middle;\n",
       "    }\n",
       "\n",
       "    .dataframe tbody tr th {\n",
       "        vertical-align: top;\n",
       "    }\n",
       "\n",
       "    .dataframe thead th {\n",
       "        text-align: right;\n",
       "    }\n",
       "</style>\n",
       "<table border=\"1\" class=\"dataframe\">\n",
       "  <thead>\n",
       "    <tr style=\"text-align: right;\">\n",
       "      <th></th>\n",
       "      <th>Description</th>\n",
       "      <th>pred_val</th>\n",
       "    </tr>\n",
       "  </thead>\n",
       "  <tbody>\n",
       "    <tr>\n",
       "      <th>0</th>\n",
       "      <td>Looking for a motel in close proximity to TV t...</td>\n",
       "      <td>1</td>\n",
       "    </tr>\n",
       "    <tr>\n",
       "      <th>1</th>\n",
       "      <td>Walking distance to Madison Square Garden and ...</td>\n",
       "      <td>0</td>\n",
       "    </tr>\n",
       "    <tr>\n",
       "      <th>2</th>\n",
       "      <td>Visited Seattle on business. Spent - nights in...</td>\n",
       "      <td>1</td>\n",
       "    </tr>\n",
       "    <tr>\n",
       "      <th>3</th>\n",
       "      <td>This hotel location is excellent and the rooms...</td>\n",
       "      <td>1</td>\n",
       "    </tr>\n",
       "    <tr>\n",
       "      <th>4</th>\n",
       "      <td>This hotel is awesome I love the service Antho...</td>\n",
       "      <td>0</td>\n",
       "    </tr>\n",
       "    <tr>\n",
       "      <th>5</th>\n",
       "      <td>Rooms, concierge services and party scene were...</td>\n",
       "      <td>0</td>\n",
       "    </tr>\n",
       "    <tr>\n",
       "      <th>6</th>\n",
       "      <td>What a pleasant place to stay!\\nThe hotel is b...</td>\n",
       "      <td>0</td>\n",
       "    </tr>\n",
       "    <tr>\n",
       "      <th>7</th>\n",
       "      <td>I booked out the same day I arrived. It cost m...</td>\n",
       "      <td>1</td>\n",
       "    </tr>\n",
       "    <tr>\n",
       "      <th>8</th>\n",
       "      <td>Unlike some hotels that grimace when you show ...</td>\n",
       "      <td>0</td>\n",
       "    </tr>\n",
       "    <tr>\n",
       "      <th>9</th>\n",
       "      <td>Hotel Sorella for my birthday. I absolutely lo...</td>\n",
       "      <td>0</td>\n",
       "    </tr>\n",
       "    <tr>\n",
       "      <th>10</th>\n",
       "      <td>I had a very comfortable stay at Baymont. It w...</td>\n",
       "      <td>0</td>\n",
       "    </tr>\n",
       "    <tr>\n",
       "      <th>11</th>\n",
       "      <td>This hotel is a keeper! First, you get a full ...</td>\n",
       "      <td>0</td>\n",
       "    </tr>\n",
       "    <tr>\n",
       "      <th>12</th>\n",
       "      <td>Really nice lobby, with free coffee, water, co...</td>\n",
       "      <td>0</td>\n",
       "    </tr>\n",
       "    <tr>\n",
       "      <th>13</th>\n",
       "      <td>There's a reason why so many of the previous r...</td>\n",
       "      <td>1</td>\n",
       "    </tr>\n",
       "    <tr>\n",
       "      <th>14</th>\n",
       "      <td>Great location, close to Times Square and so m...</td>\n",
       "      <td>0</td>\n",
       "    </tr>\n",
       "    <tr>\n",
       "      <th>15</th>\n",
       "      <td>We booked the Hampton for one night based on T...</td>\n",
       "      <td>0</td>\n",
       "    </tr>\n",
       "    <tr>\n",
       "      <th>16</th>\n",
       "      <td>I stayed here with my girlfriend who was atten...</td>\n",
       "      <td>0</td>\n",
       "    </tr>\n",
       "    <tr>\n",
       "      <th>17</th>\n",
       "      <td>From the location to service to amenities, thi...</td>\n",
       "      <td>0</td>\n",
       "    </tr>\n",
       "    <tr>\n",
       "      <th>18</th>\n",
       "      <td>my work sent me down to jacksonville - times t...</td>\n",
       "      <td>0</td>\n",
       "    </tr>\n",
       "    <tr>\n",
       "      <th>19</th>\n",
       "      <td>Stayed here for two nights while I visited DC ...</td>\n",
       "      <td>0</td>\n",
       "    </tr>\n",
       "  </tbody>\n",
       "</table>\n",
       "</div>"
      ],
      "text/plain": [
       "                                          Description  pred_val\n",
       "0   Looking for a motel in close proximity to TV t...         1\n",
       "1   Walking distance to Madison Square Garden and ...         0\n",
       "2   Visited Seattle on business. Spent - nights in...         1\n",
       "3   This hotel location is excellent and the rooms...         1\n",
       "4   This hotel is awesome I love the service Antho...         0\n",
       "5   Rooms, concierge services and party scene were...         0\n",
       "6   What a pleasant place to stay!\\nThe hotel is b...         0\n",
       "7   I booked out the same day I arrived. It cost m...         1\n",
       "8   Unlike some hotels that grimace when you show ...         0\n",
       "9   Hotel Sorella for my birthday. I absolutely lo...         0\n",
       "10  I had a very comfortable stay at Baymont. It w...         0\n",
       "11  This hotel is a keeper! First, you get a full ...         0\n",
       "12  Really nice lobby, with free coffee, water, co...         0\n",
       "13  There's a reason why so many of the previous r...         1\n",
       "14  Great location, close to Times Square and so m...         0\n",
       "15  We booked the Hampton for one night based on T...         0\n",
       "16  I stayed here with my girlfriend who was atten...         0\n",
       "17  From the location to service to amenities, thi...         0\n",
       "18  my work sent me down to jacksonville - times t...         0\n",
       "19  Stayed here for two nights while I visited DC ...         0"
      ]
     },
     "execution_count": 216,
     "metadata": {},
     "output_type": "execute_result"
    }
   ],
   "source": [
    "testdf.head(20)"
   ]
  },
  {
   "cell_type": "code",
   "execution_count": null,
   "metadata": {},
   "outputs": [],
   "source": []
  },
  {
   "cell_type": "code",
   "execution_count": null,
   "metadata": {},
   "outputs": [],
   "source": []
  }
 ],
 "metadata": {
  "kernelspec": {
   "display_name": "Python 3",
   "language": "python",
   "name": "python3"
  },
  "language_info": {
   "codemirror_mode": {
    "name": "ipython",
    "version": 3
   },
   "file_extension": ".py",
   "mimetype": "text/x-python",
   "name": "python",
   "nbconvert_exporter": "python",
   "pygments_lexer": "ipython3",
   "version": "3.7.3"
  }
 },
 "nbformat": 4,
 "nbformat_minor": 2
}
